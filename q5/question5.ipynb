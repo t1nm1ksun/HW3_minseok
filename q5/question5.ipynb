{
 "cells": [
  {
   "cell_type": "code",
   "execution_count": 5,
   "id": "c3e809c6",
   "metadata": {},
   "outputs": [
    {
     "name": "stdout",
     "output_type": "stream",
     "text": [
      "sentence1_output = undergrowth; the in bent it where To could I as far as one down looked And stood I long traveler, one be And both travel not could I sorry And wood, yellow a in diverged roads Two\n",
      "sentence2_output = same, the about really them worn Had there passing the that for as Though wear; wanted and grassy was it Because claim, better the perhaps having And fair, as just as other, the took Then\n"
     ]
    }
   ],
   "source": [
    "def reverse_words(input_string):\n",
    "    # split the input string into words\n",
    "    words = input_string.split()\n",
    "    # reverse the order of the words\n",
    "    words.reverse()\n",
    "    # join the words back into a string\n",
    "    output_string = \" \".join(words)\n",
    "    return output_string\n",
    "\n",
    "if __name__ == \"__main__\":\n",
    "    input_str1 = \"Two roads diverged in a yellow wood, And sorry I could not travel both And be one traveler, long I stood And looked down one as far as I could To where it bent in the undergrowth;\"\n",
    "    input_str2 = \"Then took the other, as just as fair, And having perhaps the better claim, Because it was grassy and wanted wear; Though as for that the passing there Had worn them really about the same,\"\n",
    "    output_str1 = reverse_words(input_str1)\n",
    "    output_str2 = reverse_words(input_str2)\n",
    "    print(\"sentence1_output = \"+ output_str1)\n",
    "    print(\"sentence2_output = \"+ output_str2)\n",
    "\n"
   ]
  },
  {
   "cell_type": "code",
   "execution_count": null,
   "id": "7563da91",
   "metadata": {},
   "outputs": [],
   "source": []
  }
 ],
 "metadata": {
  "kernelspec": {
   "display_name": "Python 3 (ipykernel)",
   "language": "python",
   "name": "python3"
  },
  "language_info": {
   "codemirror_mode": {
    "name": "ipython",
    "version": 3
   },
   "file_extension": ".py",
   "mimetype": "text/x-python",
   "name": "python",
   "nbconvert_exporter": "python",
   "pygments_lexer": "ipython3",
   "version": "3.9.13"
  }
 },
 "nbformat": 4,
 "nbformat_minor": 5
}
